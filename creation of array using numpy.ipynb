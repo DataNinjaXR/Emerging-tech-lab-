{
 "cells": [
  {
   "cell_type": "markdown",
   "id": "5e7a0d58-83ab-4158-b027-2acb0315f526",
   "metadata": {},
   "source": [
    "                 Creation of arrays using numpy "
   ]
  },
  {
   "cell_type": "code",
   "execution_count": 1,
   "id": "35aa462e-b537-4fbb-9eb7-b878cb1453c2",
   "metadata": {},
   "outputs": [],
   "source": [
    "#EXP NO: 5"
   ]
  },
  {
   "cell_type": "code",
   "execution_count": 2,
   "id": "78909559-72a2-4ce3-89ed-75ce91caf352",
   "metadata": {},
   "outputs": [],
   "source": [
    "#Aim: To create and manipulate arrays using NumPy for efficient numerical computations in Python."
   ]
  },
  {
   "cell_type": "code",
   "execution_count": 3,
   "id": "881d137c-3df4-40b5-b334-6239e3225f47",
   "metadata": {},
   "outputs": [],
   "source": [
    "#Name - Shreyash Bongirwar\n",
    "#roll number : 06 \n",
    "# sec:A \n",
    "#Subject -EMERGING TECH. LAB - I\n",
    "#lecturer - Ashish Sawant Sir"
   ]
  },
  {
   "cell_type": "code",
   "execution_count": 4,
   "id": "3a856eed-b060-440c-8236-a2a8d819e62d",
   "metadata": {},
   "outputs": [],
   "source": [
    "import numpy as np"
   ]
  },
  {
   "cell_type": "code",
   "execution_count": 5,
   "id": "679e321b-d129-4c8a-b739-982341f04d83",
   "metadata": {},
   "outputs": [
    {
     "name": "stdout",
     "output_type": "stream",
     "text": [
      "1D Array: [1 2 3 4 5]\n",
      "2D Array:\n",
      " [[1 2 3]\n",
      " [4 5 6]]\n",
      "3D Array:\n",
      " [[[1]\n",
      "  [2]]\n",
      "\n",
      " [[3]\n",
      "  [4]]]\n"
     ]
    }
   ],
   "source": [
    "# 1D Array\n",
    "arr1d = np.array([1, 2, 3, 4, 5])\n",
    "print(\"1D Array:\", arr1d)\n",
    "\n",
    "# 2D Array\n",
    "arr2d = np.array([[1, 2, 3], [4, 5, 6]])\n",
    "print(\"2D Array:\\n\", arr2d)\n",
    "\n",
    "# 3D Array\n",
    "arr3d = np.array([[[1], [2]], [[3], [4]]])\n",
    "print(\"3D Array:\\n\", arr3d)"
   ]
  },
  {
   "cell_type": "code",
   "execution_count": 6,
   "id": "0633116d-52f1-4082-92c5-9e632f47949d",
   "metadata": {},
   "outputs": [
    {
     "name": "stdout",
     "output_type": "stream",
     "text": [
      "Zeros Array:\n",
      " [[0. 0. 0.]\n",
      " [0. 0. 0.]]\n",
      "Ones Array:\n",
      " [[1. 1. 1.]\n",
      " [1. 1. 1.]\n",
      " [1. 1. 1.]]\n",
      "Identity Matrix:\n",
      " [[1. 0. 0.]\n",
      " [0. 1. 0.]\n",
      " [0. 0. 1.]]\n",
      "Array with np.arange:\n",
      " [0 2 4 6 8]\n",
      "Array with np.linspace:\n",
      " [0.   0.25 0.5  0.75 1.  ]\n"
     ]
    }
   ],
   "source": [
    "# Array of zeros\n",
    "zeros_arr = np.zeros((2, 3))\n",
    "print(\"Zeros Array:\\n\", zeros_arr)\n",
    "\n",
    "# Array of ones\n",
    "ones_arr = np.ones((3, 3))\n",
    "print(\"Ones Array:\\n\", ones_arr)\n",
    "\n",
    "# Identity matrix\n",
    "identity_arr = np.eye(3)\n",
    "print(\"Identity Matrix:\\n\", identity_arr)\n",
    "\n",
    "# Range of numbers\n",
    "range_arr = np.arange(0, 10, 2)\n",
    "print(\"Array with np.arange:\\n\", range_arr)\n",
    "\n",
    "# Evenly spaced values\n",
    "linspace_arr = np.linspace(0, 1, 5)\n",
    "print(\"Array with np.linspace:\\n\", linspace_arr)"
   ]
  },
  {
   "cell_type": "code",
   "execution_count": 7,
   "id": "9938ee99-4ef6-4ae6-9b98-668e0aeab9ae",
   "metadata": {},
   "outputs": [
    {
     "name": "stdout",
     "output_type": "stream",
     "text": [
      "Shape of arr2d: (2, 3)\n",
      "Size of arr2d: 6\n",
      "Data type of arr2d: int64\n"
     ]
    }
   ],
   "source": [
    "\n",
    "print(\"Shape of arr2d:\", arr2d.shape)\n",
    "print(\"Size of arr2d:\", arr2d.size)\n",
    "print(\"Data type of arr2d:\", arr2d.dtype)\n"
   ]
  },
  {
   "cell_type": "code",
   "execution_count": 8,
   "id": "895e0012-6096-4840-b97b-a95b26dee187",
   "metadata": {},
   "outputs": [
    {
     "name": "stdout",
     "output_type": "stream",
     "text": [
      "Reshaped Array:\n",
      " [[1 2]\n",
      " [3 4]\n",
      " [5 6]]\n",
      "First row of arr2d: [1 2 3]\n",
      "Element at row 1, col 2: 6\n"
     ]
    }
   ],
   "source": [
    "reshaped = arr2d.reshape(3, 2)\n",
    "print(\"Reshaped Array:\\n\", reshaped)\n",
    "\n",
    "# Slicing\n",
    "print(\"First row of arr2d:\", arr2d[0])\n",
    "print(\"Element at row 1, col 2:\", arr2d[1, 2])"
   ]
  },
  {
   "cell_type": "code",
   "execution_count": 9,
   "id": "4d7380a2-08d5-457a-b3a2-5e7287acb92f",
   "metadata": {},
   "outputs": [
    {
     "name": "stdout",
     "output_type": "stream",
     "text": [
      "Addition: [5 7 9]\n",
      "Multiplication: [ 4 10 18]\n",
      "Square root: [1.         1.41421356 1.73205081]\n"
     ]
    }
   ],
   "source": [
    "a = np.array([1, 2, 3])\n",
    "b = np.array([4, 5, 6])\n",
    "\n",
    "print(\"Addition:\", a + b)\n",
    "print(\"Multiplication:\", a * b)\n",
    "print(\"Square root:\", np.sqrt(a))"
   ]
  },
  {
   "cell_type": "markdown",
   "id": "e9324d50-3811-4a7e-ab3d-4451fa1203ce",
   "metadata": {},
   "source": [
    "✅ Conclusion:"
   ]
  },
  {
   "cell_type": "markdown",
   "id": "73adec2d-b20a-461c-8e66-73597c824891",
   "metadata": {},
   "source": [
    "This practical covered the creation of 1D, 2D, and 3D arrays using NumPy, along with array operations like reshaping, slicing, and arithmetic."
   ]
  },
  {
   "cell_type": "code",
   "execution_count": null,
   "id": "208c2f35-1df4-4af0-ba10-12788bfc6e10",
   "metadata": {},
   "outputs": [],
   "source": []
  }
 ],
 "metadata": {
  "kernelspec": {
   "display_name": "Python [conda env:base] *",
   "language": "python",
   "name": "conda-base-py"
  },
  "language_info": {
   "codemirror_mode": {
    "name": "ipython",
    "version": 3
   },
   "file_extension": ".py",
   "mimetype": "text/x-python",
   "name": "python",
   "nbconvert_exporter": "python",
   "pygments_lexer": "ipython3",
   "version": "3.13.5"
  }
 },
 "nbformat": 4,
 "nbformat_minor": 5
}
