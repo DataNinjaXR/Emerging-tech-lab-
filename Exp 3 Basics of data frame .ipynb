{
 "cells": [
  {
   "cell_type": "markdown",
   "id": "a87f459e-e816-40cf-991d-ea26a98c572d",
   "metadata": {},
   "source": [
    "                                Basics of Data frame"
   ]
  },
  {
   "cell_type": "code",
   "execution_count": 1,
   "id": "574e60fb-b3b0-48dd-93dc-964eb62a6162",
   "metadata": {},
   "outputs": [],
   "source": [
    "# EXP NO: 3"
   ]
  },
  {
   "cell_type": "code",
   "execution_count": 2,
   "id": "639cc646-b989-4a1a-8217-561380662631",
   "metadata": {},
   "outputs": [],
   "source": [
    "#Aim: To understand the structure and operations of DataFrames for efficient data manipulation using Pandas."
   ]
  },
  {
   "cell_type": "code",
   "execution_count": 3,
   "id": "206d4fa8-b67a-4e91-92ee-a23eb6e420a0",
   "metadata": {},
   "outputs": [],
   "source": [
    "#Name - Shreyash Bongirwar\n",
    "#roll number : 06 \n",
    "# sec:A \n",
    "#Subject -EMERGING TECH. LAB - I\n",
    "#lecturer - Ashish Sawant Sir"
   ]
  },
  {
   "cell_type": "code",
   "execution_count": 4,
   "id": "be632150-4145-46db-b54a-000272cc7309",
   "metadata": {},
   "outputs": [],
   "source": [
    "import pandas as pd"
   ]
  },
  {
   "cell_type": "code",
   "execution_count": 5,
   "id": "51af35d9-6265-4a3f-952e-75b66dcd99c3",
   "metadata": {},
   "outputs": [
    {
     "name": "stdout",
     "output_type": "stream",
     "text": [
      "      Name  Age      City\n",
      "0    Alice   24  New York\n",
      "1      Bob   27     Paris\n",
      "2  Charlie   22    London\n",
      "3    David   32     Tokyo\n"
     ]
    }
   ],
   "source": [
    "# Creating a simple DataFrame using a dictionary\n",
    "data = {\n",
    "    'Name': ['Alice', 'Bob', 'Charlie', 'David'],\n",
    "    'Age': [24, 27, 22, 32],\n",
    "    'City': ['New York', 'Paris', 'London', 'Tokyo']\n",
    "}\n",
    "\n",
    "df = pd.DataFrame(data)\n",
    "print(df)"
   ]
  },
  {
   "cell_type": "code",
   "execution_count": 6,
   "id": "b2d06d7c-94d9-4169-b5ac-3ad5a8da806c",
   "metadata": {},
   "outputs": [
    {
     "name": "stdout",
     "output_type": "stream",
     "text": [
      "Shape of DataFrame: (4, 3)\n"
     ]
    }
   ],
   "source": [
    "print(\"Shape of DataFrame:\", df.shape)"
   ]
  },
  {
   "cell_type": "code",
   "execution_count": 7,
   "id": "ef30b02a-5f81-4fac-a56e-74704f35e83f",
   "metadata": {},
   "outputs": [
    {
     "name": "stdout",
     "output_type": "stream",
     "text": [
      "Data Types:\n",
      " Name    object\n",
      "Age      int64\n",
      "City    object\n",
      "dtype: object\n"
     ]
    }
   ],
   "source": [
    "print(\"Data Types:\\n\", df.dtypes)"
   ]
  },
  {
   "cell_type": "code",
   "execution_count": 8,
   "id": "2f9d6a74-374a-4665-8b89-504ee9bc2552",
   "metadata": {},
   "outputs": [
    {
     "name": "stdout",
     "output_type": "stream",
     "text": [
      "Columns: Index(['Name', 'Age', 'City'], dtype='object')\n"
     ]
    }
   ],
   "source": [
    "print(\"Columns:\", df.columns)"
   ]
  },
  {
   "cell_type": "code",
   "execution_count": 9,
   "id": "52ad4575-37f6-4e24-b28c-59eddde3ed70",
   "metadata": {},
   "outputs": [
    {
     "name": "stdout",
     "output_type": "stream",
     "text": [
      "Index: RangeIndex(start=0, stop=4, step=1)\n"
     ]
    }
   ],
   "source": [
    "print(\"Index:\", df.index)"
   ]
  },
  {
   "cell_type": "code",
   "execution_count": 10,
   "id": "2abc98d9-3927-45be-aa4c-117efe0a5459",
   "metadata": {},
   "outputs": [
    {
     "name": "stdout",
     "output_type": "stream",
     "text": [
      "Name column:\n",
      " 0      Alice\n",
      "1        Bob\n",
      "2    Charlie\n",
      "3      David\n",
      "Name: Name, dtype: object\n"
     ]
    }
   ],
   "source": [
    "print(\"Name column:\\n\", df['Name'])"
   ]
  },
  {
   "cell_type": "code",
   "execution_count": 11,
   "id": "195e4b66-745c-4468-89f3-b281653aa0fb",
   "metadata": {},
   "outputs": [
    {
     "name": "stdout",
     "output_type": "stream",
     "text": [
      "Row at index 1:\n",
      " Name      Bob\n",
      "Age        27\n",
      "City    Paris\n",
      "Name: 1, dtype: object\n"
     ]
    }
   ],
   "source": [
    "print(\"Row at index 1:\\n\", df.loc[1])"
   ]
  },
  {
   "cell_type": "code",
   "execution_count": 12,
   "id": "a8ec56d0-790b-4031-b588-f958de98dee0",
   "metadata": {},
   "outputs": [
    {
     "name": "stdout",
     "output_type": "stream",
     "text": [
      "First two rows:\n",
      "     Name  Age      City\n",
      "0  Alice   24  New York\n",
      "1    Bob   27     Paris\n"
     ]
    }
   ],
   "source": [
    "print(\"First two rows:\\n\", df.iloc[:2])"
   ]
  },
  {
   "cell_type": "code",
   "execution_count": 13,
   "id": "f9f4ced7-206b-456f-a55d-2d3f756a68df",
   "metadata": {},
   "outputs": [],
   "source": [
    "df['Score'] = [85, 90, 88, 92]"
   ]
  },
  {
   "cell_type": "code",
   "execution_count": 14,
   "id": "c7a2abdf-39eb-4cc3-b9a1-74a1c94e7319",
   "metadata": {},
   "outputs": [
    {
     "name": "stdout",
     "output_type": "stream",
     "text": [
      "      Name  Age      City  Score\n",
      "0    Alice   25  New York     85\n",
      "1      Bob   27     Paris     90\n",
      "2  Charlie   22    London     88\n",
      "3    David   32     Tokyo     92\n"
     ]
    }
   ],
   "source": [
    "df.at[0, 'Age'] = 25\n",
    "\n",
    "print(df)"
   ]
  },
  {
   "cell_type": "code",
   "execution_count": 15,
   "id": "e304797e-6be2-41be-8884-b91836b64d84",
   "metadata": {},
   "outputs": [
    {
     "name": "stdout",
     "output_type": "stream",
     "text": [
      "Summary Statistics:\n",
      "              Age      Score\n",
      "count   4.000000   4.000000\n",
      "mean   26.500000  88.750000\n",
      "std     4.203173   2.986079\n",
      "min    22.000000  85.000000\n",
      "25%    24.250000  87.250000\n",
      "50%    26.000000  89.000000\n",
      "75%    28.250000  90.500000\n",
      "max    32.000000  92.000000\n"
     ]
    }
   ],
   "source": [
    "print(\"Summary Statistics:\\n\", df.describe())"
   ]
  },
  {
   "cell_type": "code",
   "execution_count": 16,
   "id": "2b13564a-ddd3-4468-9983-ce57b8175442",
   "metadata": {},
   "outputs": [
    {
     "name": "stdout",
     "output_type": "stream",
     "text": [
      "Sorted by Age:\n",
      "       Name  Age      City  Score\n",
      "2  Charlie   22    London     88\n",
      "0    Alice   25  New York     85\n",
      "1      Bob   27     Paris     90\n",
      "3    David   32     Tokyo     92\n"
     ]
    }
   ],
   "source": [
    "# Sort by Age\n",
    "sorted_df = df.sort_values(by='Age')\n",
    "print(\"Sorted by Age:\\n\", sorted_df)"
   ]
  },
  {
   "cell_type": "code",
   "execution_count": 17,
   "id": "16e67317-5850-4c21-9572-ff2f4a81de43",
   "metadata": {},
   "outputs": [
    {
     "name": "stdout",
     "output_type": "stream",
     "text": [
      "Score > 88:\n",
      "     Name  Age   City  Score\n",
      "1    Bob   27  Paris     90\n",
      "3  David   32  Tokyo     92\n"
     ]
    }
   ],
   "source": [
    "# Filter rows where Score > 88\n",
    "filtered_df = df[df['Score'] > 88]\n",
    "print(\"Score > 88:\\n\", filtered_df)"
   ]
  },
  {
   "cell_type": "markdown",
   "id": "56d63506-f03d-4cd8-b588-cd6c28c882fc",
   "metadata": {},
   "source": [
    "✅ Conclusion:"
   ]
  },
  {
   "cell_type": "markdown",
   "id": "0616be65-428b-40c3-a4e7-dfdd516f92a8",
   "metadata": {},
   "source": [
    "This practical provided hands-on experience with creating and manipulating Pandas DataFrames. Key operations such as accessing data, modifying values, filtering, and summarizing were practiced to build a strong foundation in data handling and analysis using Python."
   ]
  },
  {
   "cell_type": "code",
   "execution_count": null,
   "id": "f6a731d3-0f03-454e-8ada-7c045a5b9f85",
   "metadata": {},
   "outputs": [],
   "source": []
  }
 ],
 "metadata": {
  "kernelspec": {
   "display_name": "Python [conda env:base] *",
   "language": "python",
   "name": "conda-base-py"
  },
  "language_info": {
   "codemirror_mode": {
    "name": "ipython",
    "version": 3
   },
   "file_extension": ".py",
   "mimetype": "text/x-python",
   "name": "python",
   "nbconvert_exporter": "python",
   "pygments_lexer": "ipython3",
   "version": "3.13.5"
  }
 },
 "nbformat": 4,
 "nbformat_minor": 5
}
